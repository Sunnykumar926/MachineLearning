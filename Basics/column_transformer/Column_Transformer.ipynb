{
 "cells": [
  {
   "cell_type": "code",
   "execution_count": 4,
   "id": "701e291d-2235-4689-904c-9b6ff1a701a3",
   "metadata": {},
   "outputs": [],
   "source": [
    "import numpy as np\n",
    "import pandas as pd"
   ]
  },
  {
   "cell_type": "code",
   "execution_count": 5,
   "id": "2e508ed7-bd48-49d6-9bcf-4cc99aa59268",
   "metadata": {},
   "outputs": [],
   "source": [
    "df = pd.read_csv('covid_toy.csv')"
   ]
  },
  {
   "cell_type": "code",
   "execution_count": 6,
   "id": "767d0b2a-2708-4370-bbc4-5eea25b573ee",
   "metadata": {},
   "outputs": [
    {
     "data": {
      "text/html": [
       "<div>\n",
       "<style scoped>\n",
       "    .dataframe tbody tr th:only-of-type {\n",
       "        vertical-align: middle;\n",
       "    }\n",
       "\n",
       "    .dataframe tbody tr th {\n",
       "        vertical-align: top;\n",
       "    }\n",
       "\n",
       "    .dataframe thead th {\n",
       "        text-align: right;\n",
       "    }\n",
       "</style>\n",
       "<table border=\"1\" class=\"dataframe\">\n",
       "  <thead>\n",
       "    <tr style=\"text-align: right;\">\n",
       "      <th></th>\n",
       "      <th>age</th>\n",
       "      <th>gender</th>\n",
       "      <th>fever</th>\n",
       "      <th>cough</th>\n",
       "      <th>city</th>\n",
       "      <th>has_covid</th>\n",
       "    </tr>\n",
       "  </thead>\n",
       "  <tbody>\n",
       "    <tr>\n",
       "      <th>0</th>\n",
       "      <td>60</td>\n",
       "      <td>Male</td>\n",
       "      <td>103.0</td>\n",
       "      <td>Mild</td>\n",
       "      <td>Kolkata</td>\n",
       "      <td>No</td>\n",
       "    </tr>\n",
       "    <tr>\n",
       "      <th>1</th>\n",
       "      <td>27</td>\n",
       "      <td>Male</td>\n",
       "      <td>100.0</td>\n",
       "      <td>Mild</td>\n",
       "      <td>Delhi</td>\n",
       "      <td>Yes</td>\n",
       "    </tr>\n",
       "    <tr>\n",
       "      <th>2</th>\n",
       "      <td>42</td>\n",
       "      <td>Male</td>\n",
       "      <td>101.0</td>\n",
       "      <td>Mild</td>\n",
       "      <td>Delhi</td>\n",
       "      <td>No</td>\n",
       "    </tr>\n",
       "    <tr>\n",
       "      <th>3</th>\n",
       "      <td>31</td>\n",
       "      <td>Female</td>\n",
       "      <td>98.0</td>\n",
       "      <td>Mild</td>\n",
       "      <td>Kolkata</td>\n",
       "      <td>No</td>\n",
       "    </tr>\n",
       "    <tr>\n",
       "      <th>4</th>\n",
       "      <td>65</td>\n",
       "      <td>Female</td>\n",
       "      <td>101.0</td>\n",
       "      <td>Mild</td>\n",
       "      <td>Mumbai</td>\n",
       "      <td>No</td>\n",
       "    </tr>\n",
       "  </tbody>\n",
       "</table>\n",
       "</div>"
      ],
      "text/plain": [
       "   age  gender  fever cough     city has_covid\n",
       "0   60    Male  103.0  Mild  Kolkata        No\n",
       "1   27    Male  100.0  Mild    Delhi       Yes\n",
       "2   42    Male  101.0  Mild    Delhi        No\n",
       "3   31  Female   98.0  Mild  Kolkata        No\n",
       "4   65  Female  101.0  Mild   Mumbai        No"
      ]
     },
     "execution_count": 6,
     "metadata": {},
     "output_type": "execute_result"
    }
   ],
   "source": [
    "df.head()"
   ]
  },
  {
   "cell_type": "code",
   "execution_count": 7,
   "id": "40a8809f-7505-4ad2-a195-d4376f07cb69",
   "metadata": {},
   "outputs": [
    {
     "data": {
      "text/plain": [
       "cough\n",
       "Mild      62\n",
       "Strong    38\n",
       "Name: count, dtype: int64"
      ]
     },
     "execution_count": 7,
     "metadata": {},
     "output_type": "execute_result"
    }
   ],
   "source": [
    "df['cough'].value_counts()"
   ]
  },
  {
   "cell_type": "code",
   "execution_count": 8,
   "id": "3a3942e1-b995-4cd2-a574-b96bdec3ef1d",
   "metadata": {},
   "outputs": [
    {
     "data": {
      "text/plain": [
       "city\n",
       "Kolkata      32\n",
       "Bangalore    30\n",
       "Delhi        22\n",
       "Mumbai       16\n",
       "Name: count, dtype: int64"
      ]
     },
     "execution_count": 8,
     "metadata": {},
     "output_type": "execute_result"
    }
   ],
   "source": [
    "df['city'].value_counts()"
   ]
  },
  {
   "cell_type": "code",
   "execution_count": 9,
   "id": "5141fccc-62f7-45de-b608-dd0109c0e2e6",
   "metadata": {},
   "outputs": [
    {
     "data": {
      "text/plain": [
       "age           0\n",
       "gender        0\n",
       "fever        10\n",
       "cough         0\n",
       "city          0\n",
       "has_covid     0\n",
       "dtype: int64"
      ]
     },
     "execution_count": 9,
     "metadata": {},
     "output_type": "execute_result"
    }
   ],
   "source": [
    "df.isnull().sum()"
   ]
  },
  {
   "cell_type": "markdown",
   "id": "bef6c53e-c6b3-4def-8ce6-c66d09130c91",
   "metadata": {},
   "source": [
    "### conclusion\n",
    "\n",
    " - Fever => `SimpleImputer`\n",
    " - Cough => `Ordinal Encoding`\n",
    " - City and Gender => `One Hot Encoding`"
   ]
  },
  {
   "cell_type": "code",
   "execution_count": 10,
   "id": "e05deda0-510b-4d67-bcee-acf9e070390b",
   "metadata": {},
   "outputs": [],
   "source": [
    "from sklearn.impute import SimpleImputer\n",
    "from sklearn.preprocessing import OneHotEncoder\n",
    "from sklearn.preprocessing import OrdinalEncoder"
   ]
  },
  {
   "cell_type": "code",
   "execution_count": 11,
   "id": "d985cbbf-1c22-4a38-8519-0ad02fa2e159",
   "metadata": {},
   "outputs": [],
   "source": [
    "X = df.drop(columns=['has_covid'])\n",
    "y = df['has_covid']"
   ]
  },
  {
   "cell_type": "code",
   "execution_count": 12,
   "id": "de015e82-7189-4605-ad23-89ac9a0f377e",
   "metadata": {},
   "outputs": [],
   "source": [
    "from sklearn.model_selection import train_test_split\n",
    "X_train, X_test, y_train, y_test = train_test_split(X, y, test_size=0.2)"
   ]
  },
  {
   "cell_type": "code",
   "execution_count": 13,
   "id": "169d2ac8-ad02-4f40-bfc4-b4e9717211f1",
   "metadata": {},
   "outputs": [
    {
     "data": {
      "text/html": [
       "<div>\n",
       "<style scoped>\n",
       "    .dataframe tbody tr th:only-of-type {\n",
       "        vertical-align: middle;\n",
       "    }\n",
       "\n",
       "    .dataframe tbody tr th {\n",
       "        vertical-align: top;\n",
       "    }\n",
       "\n",
       "    .dataframe thead th {\n",
       "        text-align: right;\n",
       "    }\n",
       "</style>\n",
       "<table border=\"1\" class=\"dataframe\">\n",
       "  <thead>\n",
       "    <tr style=\"text-align: right;\">\n",
       "      <th></th>\n",
       "      <th>age</th>\n",
       "      <th>gender</th>\n",
       "      <th>fever</th>\n",
       "      <th>cough</th>\n",
       "      <th>city</th>\n",
       "    </tr>\n",
       "  </thead>\n",
       "  <tbody>\n",
       "    <tr>\n",
       "      <th>61</th>\n",
       "      <td>81</td>\n",
       "      <td>Female</td>\n",
       "      <td>98.0</td>\n",
       "      <td>Strong</td>\n",
       "      <td>Mumbai</td>\n",
       "    </tr>\n",
       "    <tr>\n",
       "      <th>5</th>\n",
       "      <td>84</td>\n",
       "      <td>Female</td>\n",
       "      <td>NaN</td>\n",
       "      <td>Mild</td>\n",
       "      <td>Bangalore</td>\n",
       "    </tr>\n",
       "    <tr>\n",
       "      <th>96</th>\n",
       "      <td>51</td>\n",
       "      <td>Female</td>\n",
       "      <td>101.0</td>\n",
       "      <td>Strong</td>\n",
       "      <td>Kolkata</td>\n",
       "    </tr>\n",
       "    <tr>\n",
       "      <th>66</th>\n",
       "      <td>51</td>\n",
       "      <td>Male</td>\n",
       "      <td>104.0</td>\n",
       "      <td>Mild</td>\n",
       "      <td>Kolkata</td>\n",
       "    </tr>\n",
       "    <tr>\n",
       "      <th>41</th>\n",
       "      <td>82</td>\n",
       "      <td>Male</td>\n",
       "      <td>NaN</td>\n",
       "      <td>Mild</td>\n",
       "      <td>Kolkata</td>\n",
       "    </tr>\n",
       "  </tbody>\n",
       "</table>\n",
       "</div>"
      ],
      "text/plain": [
       "    age  gender  fever   cough       city\n",
       "61   81  Female   98.0  Strong     Mumbai\n",
       "5    84  Female    NaN    Mild  Bangalore\n",
       "96   51  Female  101.0  Strong    Kolkata\n",
       "66   51    Male  104.0    Mild    Kolkata\n",
       "41   82    Male    NaN    Mild    Kolkata"
      ]
     },
     "execution_count": 13,
     "metadata": {},
     "output_type": "execute_result"
    }
   ],
   "source": [
    "X_train.head()"
   ]
  },
  {
   "cell_type": "code",
   "execution_count": 14,
   "id": "6bc64366-1440-4161-ba31-025a4f08552c",
   "metadata": {},
   "outputs": [
    {
     "name": "stdout",
     "output_type": "stream",
     "text": [
      "(80, 5) (20, 5)\n"
     ]
    }
   ],
   "source": [
    "print(X_train.shape, X_test.shape)"
   ]
  },
  {
   "cell_type": "markdown",
   "id": "1d4c4665-7b55-4b16-bc79-ba882b7fa3ee",
   "metadata": {},
   "source": [
    "### Without Column Transformer"
   ]
  },
  {
   "cell_type": "code",
   "execution_count": 15,
   "id": "8ff0f9d9-93bf-44c1-ace4-ca395c48f045",
   "metadata": {},
   "outputs": [],
   "source": [
    "# Imputer on fever column\n",
    "simple_I = SimpleImputer()\n",
    "X_train_fever = simple_I.fit_transform(X_train[['fever']])\n",
    "X_test_fever  = simple_I.fit_transform(X_test[['fever']])"
   ]
  },
  {
   "cell_type": "code",
   "execution_count": 16,
   "id": "b6616cf0-f9e9-445b-b250-64dd4be3dcda",
   "metadata": {},
   "outputs": [
    {
     "data": {
      "text/plain": [
       "array([[ 98.       ],\n",
       "       [100.8630137],\n",
       "       [101.       ],\n",
       "       [104.       ],\n",
       "       [100.8630137],\n",
       "       [100.       ],\n",
       "       [100.       ],\n",
       "       [103.       ],\n",
       "       [ 98.       ],\n",
       "       [ 99.       ],\n",
       "       [104.       ],\n",
       "       [100.       ],\n",
       "       [100.       ],\n",
       "       [101.       ],\n",
       "       [ 98.       ],\n",
       "       [100.       ],\n",
       "       [101.       ],\n",
       "       [101.       ],\n",
       "       [100.       ],\n",
       "       [ 99.       ],\n",
       "       [101.       ],\n",
       "       [102.       ],\n",
       "       [104.       ],\n",
       "       [ 98.       ],\n",
       "       [ 98.       ],\n",
       "       [102.       ],\n",
       "       [104.       ],\n",
       "       [ 98.       ],\n",
       "       [101.       ],\n",
       "       [102.       ],\n",
       "       [102.       ],\n",
       "       [103.       ],\n",
       "       [100.       ],\n",
       "       [100.8630137],\n",
       "       [103.       ],\n",
       "       [104.       ],\n",
       "       [102.       ],\n",
       "       [ 98.       ],\n",
       "       [103.       ],\n",
       "       [101.       ],\n",
       "       [ 98.       ],\n",
       "       [101.       ],\n",
       "       [102.       ],\n",
       "       [ 99.       ],\n",
       "       [102.       ],\n",
       "       [102.       ],\n",
       "       [101.       ],\n",
       "       [ 98.       ],\n",
       "       [100.       ],\n",
       "       [ 98.       ],\n",
       "       [104.       ],\n",
       "       [101.       ],\n",
       "       [ 98.       ],\n",
       "       [104.       ],\n",
       "       [100.8630137],\n",
       "       [ 99.       ],\n",
       "       [101.       ],\n",
       "       [100.8630137],\n",
       "       [101.       ],\n",
       "       [ 98.       ],\n",
       "       [104.       ],\n",
       "       [101.       ],\n",
       "       [ 98.       ],\n",
       "       [100.8630137],\n",
       "       [100.       ],\n",
       "       [104.       ],\n",
       "       [ 99.       ],\n",
       "       [100.8630137],\n",
       "       [104.       ],\n",
       "       [100.       ],\n",
       "       [104.       ],\n",
       "       [ 99.       ],\n",
       "       [101.       ],\n",
       "       [102.       ],\n",
       "       [100.       ],\n",
       "       [103.       ],\n",
       "       [ 98.       ],\n",
       "       [101.       ],\n",
       "       [104.       ],\n",
       "       [101.       ]])"
      ]
     },
     "execution_count": 16,
     "metadata": {},
     "output_type": "execute_result"
    }
   ],
   "source": [
    "# missing values are filled with mean\n",
    "X_train_fever"
   ]
  },
  {
   "cell_type": "code",
   "execution_count": 17,
   "id": "9850cdc4-ba26-4bd0-843e-b4b3b1fb08e8",
   "metadata": {},
   "outputs": [
    {
     "data": {
      "text/plain": [
       "(80, 1)"
      ]
     },
     "execution_count": 17,
     "metadata": {},
     "output_type": "execute_result"
    }
   ],
   "source": [
    "# Ordinal Encoding on Cough\n",
    "\n",
    "ordEncode = OrdinalEncoder(categories=[['Mild', 'Strong']])\n",
    "X_train_cough = ordEncode.fit_transform(X_train[['cough']])\n",
    "X_test_cough  = ordEncode.fit_transform(X_test[['cough']])\n",
    "\n",
    "X_train_cough.shape"
   ]
  },
  {
   "cell_type": "code",
   "execution_count": 18,
   "id": "7d2ac526-a7ab-4ad9-bbb5-6296f88c74a0",
   "metadata": {},
   "outputs": [
    {
     "data": {
      "text/plain": [
       "(80, 4)"
      ]
     },
     "execution_count": 18,
     "metadata": {},
     "output_type": "execute_result"
    }
   ],
   "source": [
    "# OneHotEncoding on Gender and City\n",
    "\n",
    "ohe = OneHotEncoder(drop='first')\n",
    "X_train_gender_city = ohe.fit_transform(X_train[['gender','city']])\n",
    "X_test_gender_city  = ohe.fit_transform(X_test[['gender', 'city']])\n",
    "X_train_gender_city.shape"
   ]
  },
  {
   "cell_type": "code",
   "execution_count": 19,
   "id": "0e51ab43-028f-4621-a866-67bc1867db72",
   "metadata": {},
   "outputs": [
    {
     "data": {
      "text/plain": [
       "<80x4 sparse matrix of type '<class 'numpy.float64'>'\n",
       "\twith 89 stored elements in Compressed Sparse Row format>"
      ]
     },
     "execution_count": 19,
     "metadata": {},
     "output_type": "execute_result"
    }
   ],
   "source": [
    "X_train_gender_city"
   ]
  },
  {
   "cell_type": "code",
   "execution_count": 20,
   "id": "9ba744f1-8ca8-49e3-b9a8-4e4ee13bbdf1",
   "metadata": {},
   "outputs": [
    {
     "data": {
      "text/plain": [
       "(80, 1)"
      ]
     },
     "execution_count": 20,
     "metadata": {},
     "output_type": "execute_result"
    }
   ],
   "source": [
    "# Extracting Age \n",
    "X_train_age = X_train.drop(columns=['gender', 'fever', 'cough', 'city']).values\n",
    "X_test_age  = X_test.drop(columns=['gender', 'fever', 'cough', 'city']).values\n",
    "X_train_age.shape\n"
   ]
  },
  {
   "cell_type": "code",
   "execution_count": 21,
   "id": "ec46cf2e-a70b-4470-9f90-61868af284a8",
   "metadata": {},
   "outputs": [
    {
     "data": {
      "text/plain": [
       "(80, 3)"
      ]
     },
     "execution_count": 21,
     "metadata": {},
     "output_type": "execute_result"
    }
   ],
   "source": [
    "X_train_transformed = np.concatenate((X_train_age,X_train_fever,X_train_cough),axis=1)\n",
    "# also the test data\n",
    "X_test_transformed = np.concatenate((X_test_age,X_test_fever,X_test_cough),axis=1)\n",
    "\n",
    "X_train_transformed.shape"
   ]
  },
  {
   "cell_type": "code",
   "execution_count": 22,
   "id": "71e38868-f55a-4071-86f9-99ff4fd338ee",
   "metadata": {},
   "outputs": [
    {
     "name": "stdout",
     "output_type": "stream",
     "text": [
      "(80, 1) (80, 1) (80, 4) (80, 1)\n"
     ]
    }
   ],
   "source": [
    "print(X_train_age.shape,X_train_fever.shape,X_train_gender_city.shape,X_train_cough.shape)"
   ]
  },
  {
   "cell_type": "code",
   "execution_count": null,
   "id": "fe0b9658-20c4-4f11-a261-f9a25d01fc61",
   "metadata": {},
   "outputs": [],
   "source": []
  },
  {
   "cell_type": "markdown",
   "id": "8cbe3753-30bd-41c9-9b62-ebe5f1a273fb",
   "metadata": {},
   "source": [
    "### With Column Transformer"
   ]
  },
  {
   "cell_type": "code",
   "execution_count": 23,
   "id": "56676a9e-8333-427b-823d-d100c9d0b4dc",
   "metadata": {},
   "outputs": [],
   "source": [
    "from sklearn.compose import ColumnTransformer"
   ]
  },
  {
   "cell_type": "code",
   "execution_count": 27,
   "id": "fa8726a8-d7a3-405f-9894-798e4ee66db6",
   "metadata": {},
   "outputs": [
    {
     "ename": "NameError",
     "evalue": "name 'tnf3' is not defined",
     "output_type": "error",
     "traceback": [
      "\u001b[0;31m---------------------------------------------------------------------------\u001b[0m",
      "\u001b[0;31mNameError\u001b[0m                                 Traceback (most recent call last)",
      "Cell \u001b[0;32mIn[27], line 4\u001b[0m\n\u001b[1;32m      1\u001b[0m ohe \u001b[38;5;241m=\u001b[39m ColumnTransformer([\n\u001b[1;32m      2\u001b[0m    (\u001b[38;5;124m'\u001b[39m\u001b[38;5;124mtnf3\u001b[39m\u001b[38;5;124m'\u001b[39m,OneHotEncoder(drop\u001b[38;5;241m=\u001b[39m\u001b[38;5;124m'\u001b[39m\u001b[38;5;124mfirst\u001b[39m\u001b[38;5;124m'\u001b[39m),[\u001b[38;5;124m'\u001b[39m\u001b[38;5;124mgender\u001b[39m\u001b[38;5;124m'\u001b[39m,\u001b[38;5;124m'\u001b[39m\u001b[38;5;124mcity\u001b[39m\u001b[38;5;124m'\u001b[39m])\n\u001b[1;32m      3\u001b[0m ], remainder\u001b[38;5;241m=\u001b[39m\u001b[38;5;124m'\u001b[39m\u001b[38;5;124mpassthrough\u001b[39m\u001b[38;5;124m'\u001b[39m)  \u001b[38;5;66;03m# ColumnTransformer(List of (name, transformer, columns) tuples)\u001b[39;00m\n\u001b[0;32m----> 4\u001b[0m tnf3 \u001b[38;5;241m=\u001b[39m ohe\u001b[38;5;241m.\u001b[39mfit_transform(\u001b[43mtnf3\u001b[49m\u001b[38;5;241m.\u001b[39mvalues)\n",
      "\u001b[0;31mNameError\u001b[0m: name 'tnf3' is not defined"
     ]
    }
   ],
   "source": [
    "transforemer = ColumnTransformer(transformers=[\n",
    "    ('tnf1', SimpleImputer(),['fever']),\n",
    "    ('tnf2', OrdinalEncoder(categories=[['Mild','Strong']]), ['cough']),\n",
    "    ('tnf3', OneHotEncoder(drop='first'),['gender','city'])\n",
    "],remain"
   ]
  },
  {
   "cell_type": "code",
   "execution_count": null,
   "id": "bbf26f4c-1317-4bae-8308-54aaa7a6de00",
   "metadata": {},
   "outputs": [],
   "source": []
  }
 ],
 "metadata": {
  "kernelspec": {
   "display_name": "Python 3 (ipykernel)",
   "language": "python",
   "name": "python3"
  },
  "language_info": {
   "codemirror_mode": {
    "name": "ipython",
    "version": 3
   },
   "file_extension": ".py",
   "mimetype": "text/x-python",
   "name": "python",
   "nbconvert_exporter": "python",
   "pygments_lexer": "ipython3",
   "version": "3.11.4"
  }
 },
 "nbformat": 4,
 "nbformat_minor": 5
}
